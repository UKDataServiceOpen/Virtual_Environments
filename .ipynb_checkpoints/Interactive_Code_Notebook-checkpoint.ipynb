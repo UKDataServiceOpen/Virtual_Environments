{
 "cells": [
  {
   "cell_type": "markdown",
   "id": "ac133539",
   "metadata": {},
   "source": [
    "# Getting started\n",
    "\n",
    "This notebook sets out to answer the light-hearted question \"Who has more power?\" by looking at the number of \"powers\" associated with superheroes, supervillians and other super entities in popular comic books. For this, we need a few basic things, such as some useful statistical analysis packages, some data sets, some data manipulation steps, some and analyses, and a few visualisations. \n",
    "\n",
    "All of the code notebooks in this notebook are editable and executable! In this case, 'execute' just means the code has been run. To do that, you can either click in the code cells and hit the 'Run' button at the top of the page (it has a helpful arrow symbol) or you can hold down the 'Ctrl' button on your keyboard and hit the 'Enter' key. \n",
    "\n",
    "## Importing useful packages\n",
    "Let's get started by importing the python packages we need! So click on the next cell and hit either the 'Run' button or do the 'Ctrl' + 'Enter' combo. "
   ]
  },
  {
   "cell_type": "code",
   "execution_count": null,
   "id": "fee3785e",
   "metadata": {},
   "outputs": [],
   "source": [
    "%%capture                         \n",
    "                                  # This capture statement is optional and you can delete it or put a hashtag in front of it.\n",
    "                                  # Removing it will show all the \"chatter\" normally produced during import steps. \n",
    "\n",
    "!pip install os\n",
    "import os                         # os is a module for navigating your machine (e.g., file directories).\n",
    "\n",
    "!pip install pandas \n",
    "import pandas as pd               # pandas is necessary for working with data frames - shortening it to pd just saves time. \n",
    "pd.set_option('display.max_colwidth', 200)   # some of the files are big so set a big column width. \n",
    "!pip install numpy\n",
    "import numpy as np                # like pandas, numpy is useful and useful to have a short name for\n",
    "!pip install statistics\n",
    "import statistics                 # gotsta have stats\n",
    "!pip install matplotlib\n",
    "import matplotlib as plt          # we are gonna want some plots\n",
    "\n",
    "\n",
    "!pip install csv\n",
    "import csv                        # csv is for importing and working with csv files\n"
   ]
  },
  {
   "cell_type": "markdown",
   "id": "c094f50e",
   "metadata": {},
   "source": [
    "Next to each code cell, just outside the upper left hand edge of the cell, is a little bit of text that says 'In [  ]:'\n",
    "\n",
    "If that bit of text has no numbers between the '[' and the ']', then that code cell has NOT YET been run. \n",
    "\n",
    "If that bit of text has a number between the  '[' and the ']', then that code cell HAS been run. The numbers tell you what order the cells have been run in, with the highest number sitting next to the code cell that has been run most recently. \n",
    "\n",
    "Check to make sure that the code cell above has a number inside the  '[' and the ']' before you move on to the next code cells. \n",
    "\n",
    "## Checking files\n",
    "\n",
    "Let's move on to the next step, which is checking which files are in our 'current directory'. That just means which files are in the folder that we are currently 'in'. To do that, we use some commands that make use of the packages we imported in the previous code cell. The first command is 'listdir' which is asking the computer to list all the things in this (current) directory. \n",
    "\n",
    "So click on the next cell and hit either the 'Run' button or do the 'Ctrl' + 'Enter' combo."
   ]
  },
  {
   "cell_type": "code",
   "execution_count": null,
   "id": "83bbaeec",
   "metadata": {},
   "outputs": [],
   "source": [
    "print(os.listdir())               # You can tell this uses an 'os' command because it starts with 'os.'"
   ]
  },
  {
   "cell_type": "markdown",
   "id": "52fba566",
   "metadata": {},
   "source": [
    "Great! We should see that one of the options is called 'data' and that it is the only thing in the current directory that does not have a file type. By that, I mean that 'data' is the only thing that is not followed by a '.' and trailing letters, just as a word document is followed by '.doc' or '.docx' and picture files are followed by '.jpg' or '.png' and so on. \n",
    "\n",
    "This is because 'data' is a folder. We can use another 'os' command to see inside that folder without changing our current directory (the folder we are \"in\") by repeating the command but putting 'data' inside the parentheses that were empty the first time we ran the command. \n",
    "\n",
    "Click in the next code cell and do that 'Run/Ctrl+Enter' thing. "
   ]
  },
  {
   "cell_type": "code",
   "execution_count": null,
   "id": "82d66472",
   "metadata": {},
   "outputs": [],
   "source": [
    "print(os.listdir('data'))         # Use the same basic command to show everything in the \"data\" folder. \n",
    "                                  # The previous code cell showed that the \"data\" folder is located inside the current folder. \n"
   ]
  },
  {
   "cell_type": "markdown",
   "id": "66f8765f",
   "metadata": {},
   "source": [
    "Excellent! We can see that inside of the 'data' folder are two files. These files are comma separated value or .csv files (you can tell because they end in '.csv'). These files can be opened by Excel files and will look like tables or spreadsheets because .csv files are separated into rows (by new lines) and columns (by commas). \n",
    "\n",
    "## Importing files\n",
    "\n",
    "The next step is to import and examine each of these files. \n",
    "\n",
    "Click in and execute the next two code cells. \n",
    "\n",
    "NOTE!!! If you are working directly in jupyter notebooks, use the next 2 code cells. If you are working in a Binder virtual environment, use the following 2 code cells. Thee difference is the slashes and backslashes, wich , for some reason, is different. "
   ]
  },
  {
   "cell_type": "code",
   "execution_count": null,
   "id": "24ef2c6f",
   "metadata": {},
   "outputs": [],
   "source": [
    "# USE THIS CELL IF YOU ARE WORKING DIRECTLY IN JUPYTER NOTEBOOK\n",
    "hero_powers = pd.read_csv('data\\\\super_hero_powers.csv') # This works the same as the first file.\n",
    "                                                         # Read it in, save it, call it.\n",
    "hero_powers"
   ]
  },
  {
   "cell_type": "code",
   "execution_count": null,
   "id": "a84ea828",
   "metadata": {},
   "outputs": [],
   "source": [
    "# USE THIS CELL IF YOU ARE WORKING DIRECTLY IN JUPYTER NOTEBOOK\n",
    "hero_info = pd.read_csv('data//heroes_information.csv') # This line reads in the file and saves it as\n",
    "                                                        # a data frame object named 'hero_info'\n",
    "hero_info                                               # This line \"calls\" the newly named data frame"
   ]
  },
  {
   "cell_type": "code",
   "execution_count": null,
   "id": "e8a801d1",
   "metadata": {},
   "outputs": [],
   "source": [
    "# USE THIS CELL IF YOU ARE WORKING IN A BINDER VIRTUAL ENVIRONMENT\n",
    "hero_powers = pd.read_csv('data/super_hero_powers.csv') # This works the same as the first file.\n",
    "                                                         # Read it in, save it, call it.\n",
    "hero_powers"
   ]
  },
  {
   "cell_type": "code",
   "execution_count": null,
   "id": "44586cd1",
   "metadata": {},
   "outputs": [],
   "source": [
    "# USE THIS CELL IF YOU ARE WORKING IN A BINDER VIRTUAL ENVIRONMENT\n",
    "hero_info = pd.read_csv('data/heroes_information.csv') # This line reads in the file and saves it as\n",
    "                                                        # a data frame object named 'hero_info'\n",
    "hero_info                                               # This line \"calls\" the newly named data frame"
   ]
  },
  {
   "cell_type": "markdown",
   "id": "9dfc7858",
   "metadata": {},
   "source": [
    "You now have two objects, one called 'hero_info' and one called 'hero_powers'. Each of these is objects is a data frame because you read them in using pandas (which was abbreviated as 'pd' in the command' 'pd.read_csv'.  \n",
    "\n",
    "A useful feature of pandas data frames is that when you call the name of the data frame, you can see the top and bottom of it,  plus a summary of how many rows and columns are in it. Which of these two data frames has more columns? And which has more rows?\n",
    "\n",
    "## Data manipulation\n",
    "\n",
    "You can look at the contents of these files if you like, but we want to know who has the most power. Conveniently, this data frame is arranged so that each power appears in its own column and each hero is marked as 'True' if they have that power and 'False' if they do not have that power. This means, that to find out how many powers a hero has, we can count and sum up the number of times 'True' appears in each row with a command called 'sum'. Sum will not count 'False' or anything else that is not 'True' so it will not count the character name as a power. \n",
    "\n",
    "The next step creates a column and fills it with how many times 'True' appears in each row. Click in and execute the next code cell to do that. "
   ]
  },
  {
   "cell_type": "code",
   "execution_count": null,
   "id": "443e2cd7",
   "metadata": {},
   "outputs": [],
   "source": [
    "hero_powers.insert(1,                   # Inserts a new column in 'hero_powers' data frame position 1\n",
    "                   \"power_count\",                # New column is called 'power_count'\n",
    "                   hero_powers.sum(axis=1))      # New column contains sum of the 'True' items along\n",
    "                                                 # each row (specified by axis=1)\n",
    "                \n",
    "hero_powers[:10]                                 # Displays 1st 10 rows of 'hero_powers'"
   ]
  },
  {
   "cell_type": "markdown",
   "id": "e9d9a2b3",
   "metadata": {},
   "source": [
    "You're doing great! This time, when I called on the data frame, I added '[:10] which asks it to just show me the top ten rows. This means we no longer see the bottom of the data frame or the total rumber of rows it contains, but we still see how many columns there are. \n",
    "\n",
    "Thus, we can see by the summary that the number of columns has increased by one because we added the new 'power_count' column. We can also look at that column to see how many powers the top few heros have. \n",
    "\n",
    "Wait... Is there a hero called 'Agent Bob'? Why have I never heard of this?\n",
    "\n",
    "Getting back on track, we can see that one of our two data frames has our useful new 'power_counts' column, but the other one has all the interesting info about the each hero. So now we need to merge the two data frames. I chose to merge them using an 'inner join' so that we will exclude any hero that does not appear in BOTH data frames. Other joins are available if you are interested. \n",
    "\n",
    "Again, click in and execute the next code cell. "
   ]
  },
  {
   "cell_type": "code",
   "execution_count": null,
   "id": "5c43ec0b",
   "metadata": {},
   "outputs": [],
   "source": [
    "merged_inner_heroes = pd.merge(left=hero_info,        # Creates a new 'merged_inner_heroes' data frame\n",
    "                               right=hero_powers,     # from the 'name column from 'hero_info' and\n",
    "                               left_on='name',        # the 'hero_names' column from 'hero_powers'\n",
    "                               right_on='hero_names')\n",
    "merged_inner_heroes                                   # again, this just calls the new data frame"
   ]
  },
  {
   "cell_type": "markdown",
   "id": "22381028",
   "metadata": {},
   "source": [
    "We can check out the newly merged data frame, checking the number of rows and columns. There are fewer rows than either of the two original data frames, presumably because they did not contain all the same characters. Remember that the 'inner join' excludes any rows of either data frame that do not match up exactly with a row in the other data frame. This means that there may be a few characters that appear in both original data frames but have been excluded because their names did not match EXACTLY (e.g. 'Dr. Strange' and 'Doctor Strange' do not match exactly). \n",
    "\n",
    "So what next? Well, we could filter the merged data set by gender, alignment, skin colour or anything else and see how many results there are and then get an average of the power_count for each... Why don't you try filtering by gender in the next code cell?"
   ]
  },
  {
   "cell_type": "code",
   "execution_count": null,
   "id": "e5b7ccdb",
   "metadata": {},
   "outputs": [],
   "source": [
    "filtered_heroes = merged_inner_heroes.query('Gender == \"Female\"') # Creates a new data frame from\n",
    "                                        # only those row of 'merged_inner_heroes' where 'Gender'\n",
    "                                        # is equal to 'Female' \n",
    "filtered_heroes[:10]                    # Displays the top ten rows of the new dtaa frame. "
   ]
  },
  {
   "cell_type": "markdown",
   "id": "2d78bdd3",
   "metadata": {},
   "source": [
    "Well, we have learned some useful things. \n",
    "* We have learned that Agent Bob is not female! \n",
    "* We have learned how to use a filter on a data frame. \n",
    "* We have learned that this is a tedious way to answer the question. \n",
    "\n",
    "## Data analysis and visualisation\n",
    "\n",
    "Instead of filtering and then averaging and so on, let's get the code to do the work. Let's analyse the data frame by grouping by the features we are interested in and even getting it to create a little bar chart of the results. \n",
    "\n",
    "Click and execute the next two code cells!"
   ]
  },
  {
   "cell_type": "code",
   "execution_count": null,
   "id": "0b85a19b",
   "metadata": {},
   "outputs": [],
   "source": [
    "print(merged_inner_heroes.groupby(['Gender']).mean('power_count')['power_count'])\n",
    "                                             # This print a table made of the mean power_count\n",
    "                                             # when the dtaa frame is grouped by gender \n",
    "\n",
    "merged_inner_heroes.groupby('Gender').power_count.mean().plot.bar()\n",
    "                                             # Plots a quick and dirty bar chart for the table above"
   ]
  },
  {
   "cell_type": "code",
   "execution_count": null,
   "id": "9971e1f3",
   "metadata": {},
   "outputs": [],
   "source": [
    "print(merged_inner_heroes.groupby(['Alignment']).mean('power_count')['power_count'])\n",
    "                                                 # Same as above, print a table, plot a bar chart.\n",
    "                                                 # But this time with alignment instead of gender \n",
    "merged_inner_heroes.groupby('Alignment').power_count.mean().plot.bar()"
   ]
  },
  {
   "cell_type": "markdown",
   "id": "51a3e9fd",
   "metadata": {},
   "source": [
    "Again, we have learned some useful things. \n",
    "* Gender-not-specified heroes have the most powers on average. \n",
    "* Male-gender heroes have the next most powers on average. \n",
    "* Female-gender heroes have the fewest powers on average. \n",
    "* Alignment-not-specified heroes have the most powers on average, followed closely by neutral-alignment heros. \n",
    "* Bad-alignment heros have slightly more powers on average than good-alignment heroes. \n",
    "\n",
    "All of this suggests that the answer to our question of \"Who has the most power?\" is that mysterious and unknowable heroes are the most powerful. Hmmm. \n",
    "\n",
    "But you can also combine the groupings to get a more complicated table and bar chart. "
   ]
  },
  {
   "cell_type": "code",
   "execution_count": null,
   "id": "a654b7d9",
   "metadata": {},
   "outputs": [],
   "source": [
    "print(merged_inner_heroes.groupby(by=['Gender','Alignment']).mean('power_count')['power_count'])\n",
    "                                                             # one more time, but this time with \n",
    "                                                             # a double group-by. \n",
    "merged_inner_heroes.groupby(by=['Gender','Alignment']).power_count.mean().plot.bar()"
   ]
  },
  {
   "cell_type": "markdown",
   "id": "feaee5c0",
   "metadata": {},
   "source": [
    "In an ideal world, we would probably want to improve this bar chart with titles, colours, axis labels and a legend. But that is a problem for another day!"
   ]
  }
 ],
 "metadata": {
  "kernelspec": {
   "display_name": "Python 3 (ipykernel)",
   "language": "python",
   "name": "python3"
  },
  "language_info": {
   "codemirror_mode": {
    "name": "ipython",
    "version": 3
   },
   "file_extension": ".py",
   "mimetype": "text/x-python",
   "name": "python",
   "nbconvert_exporter": "python",
   "pygments_lexer": "ipython3",
   "version": "3.11.1"
  }
 },
 "nbformat": 4,
 "nbformat_minor": 5
}
